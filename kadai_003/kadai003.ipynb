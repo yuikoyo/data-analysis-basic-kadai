{
  "nbformat": 4,
  "nbformat_minor": 0,
  "metadata": {
    "colab": {
      "provenance": []
    },
    "kernelspec": {
      "name": "python3",
      "display_name": "Python 3"
    },
    "language_info": {
      "name": "python"
    }
  },
  "cells": [
    {
      "cell_type": "code",
      "execution_count": 3,
      "metadata": {
        "colab": {
          "base_uri": "https://localhost:8080/"
        },
        "id": "XpE5VuKsvyqg",
        "outputId": "822b87bf-8f78-4223-f2ba-7a139405cc7b"
      },
      "outputs": [
        {
          "output_type": "stream",
          "name": "stdout",
          "text": [
            "[[ 4  5  6  7]\n",
            " [12 17 22 27]\n",
            " [20 29 38 47]]\n",
            "47\n"
          ]
        }
      ],
      "source": [
        "#Step1\n",
        "#NumPyをインポートするコードを記述する\n",
        "import numpy as np\n",
        "#Step2\n",
        "#AとBの行列を格納する多次元配列のコードを記述する\n",
        "A=np.array([[0,1],[2,3],[4,5]])#3×2行列\n",
        "B=np.array([[0,1,2,3],[4,5,6,7]])#2×4行列\n",
        "\n",
        "#Step3.\n",
        "#行列の積の計算をするコードを記述する\n",
        "C=np.dot(A,B)\n",
        "#Step4.\n",
        "#Step3.の計算結果を表示するコードを記述する\n",
        "print(C)\n",
        "#Step5.\n",
        "#行列の要素の最大値を求めるコードを記述する\n",
        "print(np.max(C))"
      ]
    }
  ]
}