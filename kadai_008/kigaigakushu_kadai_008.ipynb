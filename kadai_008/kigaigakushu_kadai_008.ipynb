{
  "nbformat": 4,
  "nbformat_minor": 0,
  "metadata": {
    "colab": {
      "provenance": []
    },
    "kernelspec": {
      "name": "python3",
      "display_name": "Python 3"
    },
    "language_info": {
      "name": "python"
    }
  },
  "cells": [
    {
      "cell_type": "code",
      "execution_count": 5,
      "metadata": {
        "id": "oLZ4caR1iMBb",
        "colab": {
          "base_uri": "https://localhost:8080/"
        },
        "outputId": "f1edab68-8d05-4f41-968b-a1440da517c7"
      },
      "outputs": [
        {
          "output_type": "stream",
          "name": "stdout",
          "text": [
            "(178, 13) (124, 13) (54, 13) (178,) (124,) (54,)\n"
          ]
        },
        {
          "output_type": "execute_result",
          "data": {
            "text/plain": [
              "0.9629629629629629"
            ]
          },
          "metadata": {},
          "execution_count": 5
        }
      ],
      "source": [
        "#本教材8章の「8.4 scikit-learnの基本的な使い方」で作成されたプログラムで選択されている予測モデルの「決定木」を「ランダムフォレスト」に変更して、評価結果が変わることを確認しましょう。\n",
        "\n",
        "from sklearn.datasets import load_wine\n",
        "dataset = load_wine()\n",
        "dataset\n",
        "\n",
        "dataset.data\n",
        "dataset.feature_names\n",
        "\n",
        "import pandas as pd\n",
        "df = pd.DataFrame(data=dataset.data, columns=dataset.feature_names)\n",
        "df.head()\n",
        "\n",
        "#サンプルデータの分割\n",
        "X = dataset.data\n",
        "y = dataset.target\n",
        "\n",
        "from sklearn.model_selection import train_test_split\n",
        "train_test_split(X, y, test_size=0.3, random_state=5)\n",
        "\n",
        "X_train, X_test, y_train, y_test = train_test_split(X, y, test_size=0.3, random_state=5)\n",
        "print(X.shape, X_train.shape, X_test.shape, y.shape, y_train.shape, y_test.shape)\n",
        "\n",
        "from sklearn.ensemble import RandomForestClassifier\n",
        "model = RandomForestClassifier(random_state=3)\n",
        "# 以下のようにrandom_stateを指定しない場合、最終的に生成される予測モデルが実行毎に異なる可能性があります。これは、モデルの評価結果や予測結果が実行毎に変わってしまう可能性があること意味します。\n",
        "# model = DecisionTreeClassifier()\n",
        "\n",
        "#予測モデルの学習\n",
        "model.fit(X_train, y_train)\n",
        "#予測モデルの評価\n",
        "\n",
        "#説明変数X（ワインの成分）のテストデータから、ワインの種別を予測\n",
        "y_pred = model.predict(X_test)\n",
        "y_pred\n",
        "\n",
        "y_test\n",
        "\n",
        "#metricsモジュールのaccuracy_score関数を実行する\n",
        "from sklearn.metrics import accuracy_score\n",
        "accuracy_score(y_test, y_pred)\n",
        "\n",
        "model.score(X_test, y_test)\n",
        "#決定木よりも正解率が向上している\n",
        "\n",
        "\n",
        "\n"
      ]
    }
  ]
}